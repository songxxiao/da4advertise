{
 "cells": [
  {
   "cell_type": "markdown",
   "id": "marked-moderator",
   "metadata": {},
   "source": [
    "EasyReport是数据可视化平台，目标是解决报表的数据 BI 分析和可视化问题，解放数据可视化系统的开发人力。  \n",
    "\n",
    "EasyReport提供界面优美、体验良好的交互设计，通过拖拽图表组件可实现 5 分钟搭建数据可视化页面，并对数据进行快速的分析。通过可视化图表及强大的交互分析能力，企业可使用 EasyReport有效助力自己的业务决策。  \n",
    "\n",
    "平台支持直连多种数据源（Excel/CSV、MySQL、SQL Server、PostgreSQL、Oracle、GreenPlum、Kylin、Hive、Spark、Impala、Presto、Vertica 等），简单灵活。  \n",
    "\n",
    "EasyReport支持私有部署，同时提供了整套第三方系统对接的解决方案，完满的处理了第三方系统对接会遇到的各种问题，能极大的提高企业内部搭建新系统的效率。  "
   ]
  },
  {
   "cell_type": "markdown",
   "id": "extended-blink",
   "metadata": {},
   "source": [
    "EasyReport分为三部分：\n",
    "1. 仪表盘\n",
    "2. 查询\n",
    "3. 数据源\n",
    "\n",
    "第一部分  仪表盘  \n",
    "将查询生成的可视化进行自定义拼接，并设置局部或全局参数进行控制  \n",
    "第二部分  查询  \n",
    "数据分析核心部分，其中分为sql和可视化  \n",
    "sql包括使用beetl语法处理参数并拼接sql并完成数据查询  \n",
    "可视化包括对查询结果进行处理，并配置可视化图报表  \n",
    "第三部分  数据源  \n",
    "配置包括mysql，presto，doris，clickhouse，tiDB在内的多个数据源"
   ]
  },
  {
   "cell_type": "markdown",
   "id": "complete-butterfly",
   "metadata": {},
   "source": [
    "### 重点：报表制作最重要的是最终数据查询sql的生成，所有的语法、参数都是为这个sql服务的，所以在做表之前需要对报表所需要呈现的数据和形式做到心中有数  "
   ]
  },
  {
   "cell_type": "markdown",
   "id": "capital-transcription",
   "metadata": {},
   "source": [
    "### 报表制作步骤\n",
    "1. 在对应项目下创建查询\n",
    "2. 选择数据源并修改查询名称\n",
    "3. 写查询sql"
   ]
  },
  {
   "cell_type": "markdown",
   "id": "palestinian-guide",
   "metadata": {},
   "source": [
    "### 查询sql的奇技淫巧\n",
    "1. 注释法声明参数     -- {{参数名}}  \n",
    "使用场景：在sql中需要多次出现的参数，输入${参数名}使用即可。  \n",
    "优势：开头声明参数，便于管理参数\n",
    "\n",
    "2. beetl语法\n",
    "    - 函数可参考[文档](http://ibeetl.com/beetlonline/)\n",
    "    - 三元表达式  \n",
    "    通常用于yes or no判断，用以输出不同信息 ![三元表达式](../imgs/报表制作/报表制作.png)\n",
    "    - if条件判断  \n",
    "    通常用于三元表达式判断不了的复杂情况 ![三元表达式](../imgs/报表制作/报表制作2.png)\n",
    "    - for循环  \n",
    "    可以用来解析json或数组，使用循环拼接sql ![三元表达式](../imgs/报表制作/报表制作3.png)\n",
    "    "
   ]
  },
  {
   "cell_type": "code",
   "execution_count": null,
   "id": "early-prize",
   "metadata": {},
   "outputs": [],
   "source": []
  }
 ],
 "metadata": {
  "kernelspec": {
   "display_name": "Python 3",
   "language": "python",
   "name": "python3"
  },
  "language_info": {
   "codemirror_mode": {
    "name": "ipython",
    "version": 3
   },
   "file_extension": ".py",
   "mimetype": "text/x-python",
   "name": "python",
   "nbconvert_exporter": "python",
   "pygments_lexer": "ipython3",
   "version": "3.7.0"
  }
 },
 "nbformat": 4,
 "nbformat_minor": 5
}
